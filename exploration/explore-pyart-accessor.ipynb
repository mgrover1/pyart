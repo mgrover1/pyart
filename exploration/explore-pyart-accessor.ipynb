{
 "cells": [
  {
   "cell_type": "markdown",
   "id": "05b79ac5-7469-4fef-83af-5eea2b0c69fd",
   "metadata": {},
   "source": [
    "# Explore Py-ART Accessor"
   ]
  },
  {
   "cell_type": "code",
   "execution_count": 8,
   "id": "95ed3315-aa40-4629-97c4-64ff66518b3c",
   "metadata": {},
   "outputs": [],
   "source": [
    "import pyart\n",
    "import xradar\n",
    "import xarray as xr\n",
    "from open_radar_data import DATASETS"
   ]
  },
  {
   "cell_type": "code",
   "execution_count": null,
   "id": "73fdb0a4-149b-4c80-aad1-64b8fee1aca9",
   "metadata": {},
   "outputs": [],
   "source": []
  },
  {
   "cell_type": "code",
   "execution_count": 3,
   "id": "35c1cf9b-7070-415c-b47b-d41486d7907d",
   "metadata": {},
   "outputs": [],
   "source": [
    "filepath = DATASETS.fetch(\"sample_sgp_data.nc\")"
   ]
  },
  {
   "cell_type": "code",
   "execution_count": 9,
   "id": "d87e1753-474b-48fa-98d4-1fc5f141f7bc",
   "metadata": {},
   "outputs": [
    {
     "name": "stderr",
     "output_type": "stream",
     "text": [
      "/Users/mgrover/miniforge3/envs/pyart-dev/lib/python3.10/site-packages/xarray/backends/plugins.py:29: RuntimeWarning: Found 2 entrypoints for the engine name cfradial1:\n",
      " ['xradar.io.backends', 'wradlib.io.backends'].\n",
      " The entrypoint xradar.io.backends will be used.\n",
      "  warnings.warn(\n",
      "/Users/mgrover/miniforge3/envs/pyart-dev/lib/python3.10/site-packages/xarray/backends/plugins.py:29: RuntimeWarning: Found 2 entrypoints for the engine name furuno:\n",
      " ['xradar.io.backends', 'wradlib.io.backends'].\n",
      " The entrypoint xradar.io.backends will be used.\n",
      "  warnings.warn(\n",
      "/Users/mgrover/miniforge3/envs/pyart-dev/lib/python3.10/site-packages/xarray/backends/plugins.py:29: RuntimeWarning: Found 2 entrypoints for the engine name gamic:\n",
      " ['xradar.io.backends', 'wradlib.io.backends'].\n",
      " The entrypoint xradar.io.backends will be used.\n",
      "  warnings.warn(\n",
      "/Users/mgrover/miniforge3/envs/pyart-dev/lib/python3.10/site-packages/xarray/backends/plugins.py:29: RuntimeWarning: Found 2 entrypoints for the engine name iris:\n",
      " ['xradar.io.backends', 'wradlib.io.backends'].\n",
      " The entrypoint xradar.io.backends will be used.\n",
      "  warnings.warn(\n",
      "/Users/mgrover/miniforge3/envs/pyart-dev/lib/python3.10/site-packages/xarray/backends/plugins.py:29: RuntimeWarning: Found 2 entrypoints for the engine name odim:\n",
      " ['wradlib.io.backends', 'xradar.io.backends'].\n",
      " The entrypoint wradlib.io.backends will be used.\n",
      "  warnings.warn(\n",
      "/Users/mgrover/miniforge3/envs/pyart-dev/lib/python3.10/site-packages/xarray/backends/plugins.py:29: RuntimeWarning: Found 2 entrypoints for the engine name rainbow:\n",
      " ['xradar.io.backends', 'wradlib.io.backends'].\n",
      " The entrypoint xradar.io.backends will be used.\n",
      "  warnings.warn(\n"
     ]
    }
   ],
   "source": [
    "radar = pyart.io.read(filepath)\n",
    "xrad = xradar.io.open_cfradial1_datatree(filepath)"
   ]
  },
  {
   "cell_type": "code",
   "execution_count": 20,
   "id": "abc0d0f3-aef5-466a-b244-ba65920944af",
   "metadata": {},
   "outputs": [
    {
     "ename": "SyntaxError",
     "evalue": "invalid syntax (1435214064.py, line 2)",
     "output_type": "error",
     "traceback": [
      "\u001b[0;36m  Cell \u001b[0;32mIn[20], line 2\u001b[0;36m\u001b[0m\n\u001b[0;31m    def __init__(self, xradar.xradar_object):\u001b[0m\n\u001b[0m                             ^\u001b[0m\n\u001b[0;31mSyntaxError\u001b[0m\u001b[0;31m:\u001b[0m invalid syntax\n"
     ]
    }
   ],
   "source": [
    "class Pyart(object):\n",
    "    def __init__(self, xradar.xradar_object):\n",
    "    def get_slice(sweep=0):\n",
    "        return xradar_object[f'sweep_{sweep}']"
   ]
  },
  {
   "cell_type": "code",
   "execution_count": 18,
   "id": "38c19890-9ca3-4615-8dab-cb5af5bdc629",
   "metadata": {},
   "outputs": [
    {
     "ename": "TypeError",
     "evalue": "Pyart() takes no arguments",
     "output_type": "error",
     "traceback": [
      "\u001b[0;31m---------------------------------------------------------------------------\u001b[0m",
      "\u001b[0;31mTypeError\u001b[0m                                 Traceback (most recent call last)",
      "Cell \u001b[0;32mIn[18], line 1\u001b[0m\n\u001b[0;32m----> 1\u001b[0m \u001b[43mPyart\u001b[49m\u001b[43m(\u001b[49m\u001b[43mxrad\u001b[49m\u001b[43m)\u001b[49m\n",
      "\u001b[0;31mTypeError\u001b[0m: Pyart() takes no arguments"
     ]
    }
   ],
   "source": [
    "Pyart(xrad)"
   ]
  },
  {
   "cell_type": "code",
   "execution_count": null,
   "id": "d8a3af82-b285-4afe-bbf3-0c418d41e79f",
   "metadata": {},
   "outputs": [],
   "source": []
  }
 ],
 "metadata": {
  "kernelspec": {
   "display_name": "Python 3 (ipykernel)",
   "language": "python",
   "name": "python3"
  },
  "language_info": {
   "codemirror_mode": {
    "name": "ipython",
    "version": 3
   },
   "file_extension": ".py",
   "mimetype": "text/x-python",
   "name": "python",
   "nbconvert_exporter": "python",
   "pygments_lexer": "ipython3",
   "version": "3.10.8"
  }
 },
 "nbformat": 4,
 "nbformat_minor": 5
}
